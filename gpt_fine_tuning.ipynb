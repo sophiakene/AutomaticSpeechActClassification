{
 "cells": [
  {
   "cell_type": "markdown",
   "metadata": {},
   "source": [
    "# Fine-tuning GPT for speech act classification"
   ]
  },
  {
   "cell_type": "markdown",
   "metadata": {},
   "source": [
    "### This script is splitting the data into train, validation and test set including the prompts, the model was be fine-tuned with. The actual fine-tuning is done on OpenAI, loading the json files generated with this notebook."
   ]
  },
  {
   "cell_type": "markdown",
   "metadata": {},
   "source": [
    "#### Import Libraries"
   ]
  },
  {
   "cell_type": "code",
   "execution_count": null,
   "metadata": {},
   "outputs": [],
   "source": [
    "import pandas as pd\n",
    "from collections import Counter\n",
    "from sklearn.model_selection import train_test_split\n",
    "import json\n",
    "import numpy as np"
   ]
  },
  {
   "cell_type": "markdown",
   "metadata": {},
   "source": [
    "#### Read in data"
   ]
  },
  {
   "cell_type": "code",
   "execution_count": null,
   "metadata": {},
   "outputs": [],
   "source": [
    "table = pd.read_csv(#path/to/csv/file.csv)\n",
    "table = table[[\"label\", \"sentence\"]]"
   ]
  },
  {
   "cell_type": "markdown",
   "metadata": {},
   "source": [
    "## Constructing the training set"
   ]
  },
  {
   "cell_type": "markdown",
   "metadata": {},
   "source": [
    "#### Separate \\<dec\\> rows -> Preserve some for the test set, otherwise might end up with none in the test set because of scarcity"
   ]
  },
  {
   "cell_type": "code",
   "execution_count": null,
   "metadata": {},
   "outputs": [],
   "source": [
    "dec_df = table[table[\"label\"] == \"<dec>\"]\n",
    "non_dec_df = table[table[\"label\"] != \"<dec>\"]\n",
    "dec_test = dec_df.sample(n=5, random_state=42)\n",
    "dec_remaining = dec_df.drop(dec_test.index)"
   ]
  },
  {
   "cell_type": "markdown",
   "metadata": {},
   "source": [
    "#### Stratified split on the rest (non-\\<dec\\> + remaining \\<dec\\>)"
   ]
  },
  {
   "cell_type": "code",
   "execution_count": null,
   "metadata": {},
   "outputs": [],
   "source": [
    "split_df = pd.concat([non_dec_df, dec_remaining])\n",
    "\n",
    "# First split: Train 85%, temp 15% (for val + test)\n",
    "train_df, temp_df = train_test_split(\n",
    "    split_df,\n",
    "    test_size=0.15,\n",
    "    stratify=split_df[\"label\"],\n",
    "    random_state=42\n",
    ")"
   ]
  },
  {
   "cell_type": "markdown",
   "metadata": {},
   "source": [
    "#### Option 1: Using smaller partitions of training set "
   ]
  },
  {
   "cell_type": "code",
   "execution_count": null,
   "metadata": {},
   "outputs": [],
   "source": [
    "#train_df = train_df.sample(frac=0.75, random_state=42).reset_index(drop=True) #set frac to 0.25, 0.5, etc. and uncomment\n",
    "\n",
    "# Second split: Validation (10%), Test (5%) from temp\n",
    "val_df, test_df_partial = train_test_split(\n",
    "    temp_df,\n",
    "    test_size=1/3,  # 1/3 of 15% = 5%\n",
    "    stratify=temp_df[\"label\"],\n",
    "    random_state=42\n",
    ")\n",
    "\n",
    "class_counts = train_df[\"label\"].value_counts().to_dict()"
   ]
  },
  {
   "cell_type": "markdown",
   "metadata": {},
   "source": [
    "#### Option 2: Scaling the class distribution with smallest class as anchor"
   ]
  },
  {
   "cell_type": "code",
   "execution_count": null,
   "metadata": {},
   "outputs": [],
   "source": [
    "min_class = min(class_counts.values())  # smallest count in training\n",
    "target_min = min_class  # anchor to itself\n",
    "target_for_second = 100  # <-- or another anchor you like\n",
    "\n",
    "# Fit power-law scaling between two anchors\n",
    "sorted_counts = sorted(class_counts.values())\n",
    "x1, y1 = sorted_counts[0], target_min\n",
    "x2, y2 = sorted_counts[1], target_for_second\n",
    "\n",
    "p = np.log(y2 / y1) / np.log(x2 / x1)\n",
    "a = y1 / (x1 ** p)"
   ]
  },
  {
   "cell_type": "code",
   "execution_count": null,
   "metadata": {},
   "outputs": [],
   "source": [
    "def scaled_target(n):\n",
    "    return int(round(a * (n ** p)))\n",
    "\n",
    "# Compute new targets for each class\n",
    "targets = {cls: scaled_target(n) for cls, n in class_counts.items()}\n",
    "\n",
    "# Sample accordingly\n",
    "resampled_dfs = []\n",
    "for cls, tgt in targets.items():\n",
    "    cls_df = train_df[train_df[\"label\"] == cls]\n",
    "    # if target bigger than available, just take all\n",
    "    n_sample = min(len(cls_df), tgt)\n",
    "    resampled_dfs.append(cls_df.sample(n=n_sample, random_state=42))\n",
    "\n",
    "train_df_resampled = pd.concat(resampled_dfs).reset_index(drop=True)\n",
    "\n",
    "print(\"Original train counts:\", class_counts)\n",
    "print(\"Resampled train counts:\", train_df_resampled[\"label\"].value_counts().to_dict())"
   ]
  },
  {
   "cell_type": "markdown",
   "metadata": {},
   "source": [
    "#### Option 3: Not running any of the two above and use the full data set"
   ]
  },
  {
   "cell_type": "markdown",
   "metadata": {},
   "source": [
    "#### No matter which option, run the following block:"
   ]
  },
  {
   "cell_type": "code",
   "execution_count": null,
   "metadata": {},
   "outputs": [],
   "source": [
    "#Add the 5 reserved <dec> rows to test set\n",
    "test_df = pd.concat([test_df_partial, dec_test]).reset_index(drop=True)\n",
    "\n",
    "#Shuffle final test set\n",
    "test_df = test_df.sample(frac=1, random_state=42).reset_index(drop=True)"
   ]
  },
  {
   "cell_type": "code",
   "execution_count": null,
   "metadata": {},
   "outputs": [],
   "source": [
    "system_prompt = \"\"\"You're a linguist with expert knowledge in speech acts and you are annotating a dataset of spoken sentences with Searle's speech acts.\n",
    "The classes are defined as follows: Representative (rep): For Searle the purpose of the class of representatives is 'to commit the speaker (in varying degrees) to something's being the case, to the truth of the expressed proposition'. The context of an utterance is often crucial to understanding the speaker's intent. \\\n",
    "Directive (<dir>): Searle characterises directives as acts 'by the speaker to get the hearer to do something'. While certain verbs such as ask, order, or command obviously have canonical uses as indicators of directives, Searle relegates to a footnote the observation that 'questions are a species of directives, since they are attempts by S to get H to answer'.\n",
    "Commissive (<com>): Searle understands commissives as those 'illocutionary acts whose point is to commit the speaker (again in varying degrees) to some future course of action'. Subject to the sincerity condition of having a genuine intention to carry out the action to which a commitment is made, the person who utters a commissive undertakes to fit the external world to the words which have been uttered. This definition includes both a central function of commitment and the qualification that this commitment may be expressed in varying degrees of strength. \n",
    "Expressives (<exp>): In expressives, the purpose of an utterance is, as Searle says, 'to express the psychological state specified in the sincerity condition about a state of affairs specified in the propositional content'. The key distinguishing characteristic of expressives is that 'the speaker is neither trying to get the world to match the words nor the words to match the world: the truth of the expressed proposition is presupposed'. \n",
    "Declarative (<dec>):  In Searle's taxonomy, successful performance of a declarative 'guarantees that the propositional content corresponds to the world'. This guarantee arises because some aspect of the real world changes as a result of the commission of the speech act.\n",
    "Indeterminate conversationally-relevant utterance (<icu>): Indeterminate conversationally-relevant utterances denote a broad range of minimal responses, back-channel utterances, or other elements of speech which are relevant to the maintenance of discourse or discourse continuity, but which lack a discernable function as a speech act.\n",
    "Not analysable at pragmatic level (<xpa>): xpa denotes that the utterance lies outside the pragmatic analysis.\n",
    "Please classify this sentence as one of the eight speech act types and output the label i.e. <rep>, <dir>, <com>, <exp>, <dec>, <icu> or <xpa>.\"\"\"\n",
    "\n",
    "output_path = \"gpt_finetune_train_smoothed_distr.jsonl\"\n",
    "\n",
    "with open(output_path, \"w\", encoding=\"utf-8\") as f:\n",
    "    for _, row in train_df_resampled.iterrows():\n",
    "        entry = {\n",
    "            \"messages\": [\n",
    "                {\"role\": \"system\", \"content\": system_prompt},\n",
    "                {\"role\": \"user\", \"content\": f\"Annotate the following sentence with one speech act: {row['sentence']}\"},\n",
    "                {\"role\": \"assistant\", \"content\": row[\"label\"]}\n",
    "            ]\n",
    "        }\n",
    "        f.write(json.dumps(entry, ensure_ascii=False) + \"\\n\")"
   ]
  },
  {
   "cell_type": "markdown",
   "metadata": {},
   "source": [
    "## Constructing the validation set (same for all training set options)"
   ]
  },
  {
   "cell_type": "code",
   "execution_count": null,
   "metadata": {},
   "outputs": [],
   "source": [
    "system_prompt = \"\"\"You're a linguist with expert knowledge in speech acts and you are annotating a dataset of spoken sentences with Searle's speech acts.\n",
    "The classes are defined as follows: Representative (rep): For Searle the purpose of the class of representatives is 'to commit the speaker (in varying degrees) to something's being the case, to the truth of the expressed proposition'. The context of an utterance is often crucial to understanding the speaker's intent. \\\n",
    "Directive (<dir>): Searle characterises directives as acts 'by the speaker to get the hearer to do something'. While certain verbs such as ask, order, or command obviously have canonical uses as indicators of directives, Searle relegates to a footnote the observation that 'questions are a species of directives, since they are attempts by S to get H to answer'.\n",
    "Commissive (<com>): Searle understands commissives as those 'illocutionary acts whose point is to commit the speaker (again in varying degrees) to some future course of action'. Subject to the sincerity condition of having a genuine intention to carry out the action to which a commitment is made, the person who utters a commissive undertakes to fit the external world to the words which have been uttered. This definition includes both a central function of commitment and the qualification that this commitment may be expressed in varying degrees of strength. \n",
    "Expressives (<exp>): In expressives, the purpose of an utterance is, as Searle says, 'to express the psychological state specified in the sincerity condition about a state of affairs specified in the propositional content'. The key distinguishing characteristic of expressives is that 'the speaker is neither trying to get the world to match the words nor the words to match the world: the truth of the expressed proposition is presupposed'. \n",
    "Declarative (<dec>):  In Searle's taxonomy, successful performance of a declarative 'guarantees that the propositional content corresponds to the world'. This guarantee arises because some aspect of the real world changes as a result of the commission of the speech act.\n",
    "Indeterminate conversationally-relevant utterance (<icu>): Indeterminate conversationally-relevant utterances denote a broad range of minimal responses, back-channel utterances, or other elements of speech which are relevant to the maintenance of discourse or discourse continuity, but which lack a discernable function as a speech act.\n",
    "Not analysable at pragmatic level (<xpa>): xpa denotes that the utterance lies outside the pragmatic analysis.\n",
    "Please classify this sentence as one of the eight speech act types and output the label i.e. <rep>, <dir>, <com>, <exp>, <dec>, <icu> or <xpa>.\"\"\"\n",
    "\n",
    "# Path to save JSONL file\n",
    "output_path = \"gpt_finetune_validate.jsonl\"\n",
    "\n",
    "with open(output_path, \"w\", encoding=\"utf-8\") as f:\n",
    "    for _, row in val_df.iterrows():\n",
    "        entry = {\n",
    "            \"messages\": [\n",
    "                {\"role\": \"system\", \"content\": system_prompt},\n",
    "                {\"role\": \"user\", \"content\": f\"Annotate the following sentence with one speech act: {row['sentence']}\"},\n",
    "                {\"role\": \"assistant\", \"content\": row[\"label\"]}\n",
    "            ]\n",
    "        }\n",
    "        f.write(json.dumps(entry, ensure_ascii=False) + \"\\n\")"
   ]
  },
  {
   "cell_type": "markdown",
   "metadata": {},
   "source": [
    "## Constructing the test set (same for all training set options)"
   ]
  },
  {
   "cell_type": "code",
   "execution_count": null,
   "metadata": {},
   "outputs": [],
   "source": [
    "system_prompt = \"\"\"You're a linguist with expert knowledge in speech acts and you are annotating a dataset of spoken sentences with Searle's speech acts.\n",
    "The classes are defined as follows: Representative (rep): For Searle the purpose of the class of representatives is 'to commit the speaker (in varying degrees) to something's being the case, to the truth of the expressed proposition'. The context of an utterance is often crucial to understanding the speaker's intent. \\\n",
    "Directive (<dir>): Searle characterises directives as acts 'by the speaker to get the hearer to do something'. While certain verbs such as ask, order, or command obviously have canonical uses as indicators of directives, Searle relegates to a footnote the observation that 'questions are a species of directives, since they are attempts by S to get H to answer'.\n",
    "Commissive (<com>): Searle understands commissives as those 'illocutionary acts whose point is to commit the speaker (again in varying degrees) to some future course of action'. Subject to the sincerity condition of having a genuine intention to carry out the action to which a commitment is made, the person who utters a commissive undertakes to fit the external world to the words which have been uttered. This definition includes both a central function of commitment and the qualification that this commitment may be expressed in varying degrees of strength. \n",
    "Expressives (<exp>): In expressives, the purpose of an utterance is, as Searle says, 'to express the psychological state specified in the sincerity condition about a state of affairs specified in the propositional content'. The key distinguishing characteristic of expressives is that 'the speaker is neither trying to get the world to match the words nor the words to match the world: the truth of the expressed proposition is presupposed'. \n",
    "Declarative (<dec>):  In Searle's taxonomy, successful performance of a declarative 'guarantees that the propositional content corresponds to the world'. This guarantee arises because some aspect of the real world changes as a result of the commission of the speech act.\n",
    "Indeterminate conversationally-relevant utterance (<icu>): Indeterminate conversationally-relevant utterances denote a broad range of minimal responses, back-channel utterances, or other elements of speech which are relevant to the maintenance of discourse or discourse continuity, but which lack a discernable function as a speech act.\n",
    "Not analysable at pragmatic level (<xpa>): xpa denotes that the utterance lies outside the pragmatic analysis.\n",
    "Please classify this sentence as one of the eight speech act types and output the label i.e. <rep>, <dir>, <com>, <exp>, <dec>, <icu> or <xpa>.\"\"\"\n",
    "\n",
    "# Path to save JSONL file\n",
    "output_path = \"gpt_finetune_test.jsonl\"\n",
    "\n",
    "with open(output_path, \"w\", encoding=\"utf-8\") as f:\n",
    "    for _, row in test_df.iterrows():\n",
    "        entry = {\n",
    "            \"messages\": [\n",
    "                {\"role\": \"system\", \"content\": system_prompt},\n",
    "                {\"role\": \"user\", \"content\": f\"Annotate the following sentence with one speech act: {row['sentence']}\"},\n",
    "                #{\"role\": \"assistant\", \"content\": row[\"label\"]}\n",
    "            ]\n",
    "        }\n",
    "        f.write(json.dumps(entry, ensure_ascii=False) + \"\\n\")"
   ]
  },
  {
   "cell_type": "markdown",
   "metadata": {},
   "source": [
    "#### Save test labels for evaluation"
   ]
  },
  {
   "cell_type": "code",
   "execution_count": null,
   "metadata": {},
   "outputs": [],
   "source": [
    "output_path = \"gpt_finetune_test_labels.jsonl\"\n",
    "with open(output_path, \"w\", encoding=\"utf-8\") as f:\n",
    "    for _, row in test_df.iterrows():\n",
    "        entry = {\n",
    "            \"label\": row[\"label\"]\n",
    "        }\n",
    "        f.write(json.dumps(entry, ensure_ascii=False) + \"\\n\")"
   ]
  }
 ],
 "metadata": {
  "language_info": {
   "name": "python"
  }
 },
 "nbformat": 4,
 "nbformat_minor": 2
}
