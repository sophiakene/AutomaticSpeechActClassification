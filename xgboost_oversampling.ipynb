{
 "cells": [
  {
   "cell_type": "markdown",
   "metadata": {},
   "source": [
    "## XGBoost Model With Oversampling"
   ]
  },
  {
   "cell_type": "markdown",
   "metadata": {},
   "source": [
    "#### Import Libraries"
   ]
  },
  {
   "cell_type": "code",
   "execution_count": 1,
   "metadata": {},
   "outputs": [
    {
     "name": "stderr",
     "output_type": "stream",
     "text": [
      "[nltk_data] Downloading package punkt to /Users/soconr/nltk_data...\n",
      "[nltk_data]   Package punkt is already up-to-date!\n"
     ]
    }
   ],
   "source": [
    "from sklearn.model_selection import GroupKFold\n",
    "from sklearn.metrics import precision_score, recall_score, f1_score, confusion_matrix, accuracy_score\n",
    "from sklearn.preprocessing import LabelEncoder\n",
    "import scipy\n",
    "from scipy.sparse import csr_matrix\n",
    "import numpy as np\n",
    "import nltk\n",
    "nltk.download('punkt')\n",
    "from xgboost import XGBClassifier\n",
    "from sklearn.preprocessing import StandardScaler\n",
    "from imblearn.over_sampling import RandomOverSampler\n",
    "import sys"
   ]
  },
  {
   "cell_type": "markdown",
   "metadata": {},
   "source": [
    "#### Write outputs to log file"
   ]
  },
  {
   "cell_type": "code",
   "execution_count": 2,
   "metadata": {},
   "outputs": [
    {
     "name": "stdout",
     "output_type": "stream",
     "text": [
      "[{\"name\": \"GroupKFold\", \"type\": \"ABCMeta\", \"fullType\": \"abc.ABCMeta\"}, {\"name\": \"LabelEncoder\", \"type\": \"type\", \"fullType\": \"type\"}, {\"name\": \"RandomOverSampler\", \"type\": \"ABCMeta\", \"fullType\": \"abc.ABCMeta\"}, {\"name\": \"StandardScaler\", \"type\": \"type\", \"fullType\": \"type\"}, {\"name\": \"Tee\", \"type\": \"type\", \"fullType\": \"type\"}, {\"name\": \"XGBClassifier\", \"type\": \"type\", \"fullType\": \"type\"}, {\"name\": \"accuracy_score\", \"type\": \"function\", \"fullType\": \"function\"}, {\"name\": \"confusion_matrix\", \"type\": \"function\", \"fullType\": \"function\"}, {\"name\": \"csr_matrix\", \"type\": \"type\", \"fullType\": \"type\"}, {\"name\": \"f1_score\", \"type\": \"function\", \"fullType\": \"function\"}, {\"name\": \"log_file\", \"type\": \"TextIOWrapper\", \"fullType\": \"_io.TextIOWrapper\"}, {\"name\": \"nltk\", \"type\": \"module\", \"fullType\": \"module\"}, {\"name\": \"np\", \"type\": \"module\", \"fullType\": \"module\"}, {\"name\": \"precision_score\", \"type\": \"function\", \"fullType\": \"function\"}, {\"name\": \"recall_score\", \"type\": \"function\", \"fullType\": \"function\"}, {\"name\": \"scipy\", \"type\": \"module\", \"fullType\": \"module\"}, {\"name\": \"sys\", \"type\": \"module\", \"fullType\": \"module\"}]\n",
      "[{\"name\": \"GroupKFold\", \"type\": \"ABCMeta\", \"fullType\": \"abc.ABCMeta\"}, {\"name\": \"LabelEncoder\", \"type\": \"type\", \"fullType\": \"type\"}, {\"name\": \"RandomOverSampler\", \"type\": \"ABCMeta\", \"fullType\": \"abc.ABCMeta\"}, {\"name\": \"StandardScaler\", \"type\": \"type\", \"fullType\": \"type\"}, {\"name\": \"Tee\", \"type\": \"type\", \"fullType\": \"type\"}, {\"name\": \"XGBClassifier\", \"type\": \"type\", \"fullType\": \"type\"}, {\"name\": \"accuracy_score\", \"type\": \"function\", \"fullType\": \"function\"}, {\"name\": \"confusion_matrix\", \"type\": \"function\", \"fullType\": \"function\"}, {\"name\": \"csr_matrix\", \"type\": \"type\", \"fullType\": \"type\"}, {\"name\": \"f1_score\", \"type\": \"function\", \"fullType\": \"function\"}, {\"name\": \"log_file\", \"type\": \"TextIOWrapper\", \"fullType\": \"_io.TextIOWrapper\"}, {\"name\": \"nltk\", \"type\": \"module\", \"fullType\": \"module\"}, {\"name\": \"np\", \"type\": \"module\", \"fullType\": \"module\"}, {\"name\": \"precision_score\", \"type\": \"function\", \"fullType\": \"function\"}, {\"name\": \"recall_score\", \"type\": \"function\", \"fullType\": \"function\"}, {\"name\": \"scipy\", \"type\": \"module\", \"fullType\": \"module\"}, {\"name\": \"sys\", \"type\": \"module\", \"fullType\": \"module\"}]\n",
      "[{\"name\": \"GroupKFold\", \"type\": \"ABCMeta\", \"fullType\": \"abc.ABCMeta\"}, {\"name\": \"LabelEncoder\", \"type\": \"type\", \"fullType\": \"type\"}, {\"name\": \"RandomOverSampler\", \"type\": \"ABCMeta\", \"fullType\": \"abc.ABCMeta\"}, {\"name\": \"StandardScaler\", \"type\": \"type\", \"fullType\": \"type\"}, {\"name\": \"Tee\", \"type\": \"type\", \"fullType\": \"type\"}, {\"name\": \"XGBClassifier\", \"type\": \"type\", \"fullType\": \"type\"}, {\"name\": \"accuracy_score\", \"type\": \"function\", \"fullType\": \"function\"}, {\"name\": \"confusion_matrix\", \"type\": \"function\", \"fullType\": \"function\"}, {\"name\": \"csr_matrix\", \"type\": \"type\", \"fullType\": \"type\"}, {\"name\": \"f1_score\", \"type\": \"function\", \"fullType\": \"function\"}, {\"name\": \"log_file\", \"type\": \"TextIOWrapper\", \"fullType\": \"_io.TextIOWrapper\"}, {\"name\": \"nltk\", \"type\": \"module\", \"fullType\": \"module\"}, {\"name\": \"np\", \"type\": \"module\", \"fullType\": \"module\"}, {\"name\": \"precision_score\", \"type\": \"function\", \"fullType\": \"function\"}, {\"name\": \"recall_score\", \"type\": \"function\", \"fullType\": \"function\"}, {\"name\": \"scipy\", \"type\": \"module\", \"fullType\": \"module\"}, {\"name\": \"sys\", \"type\": \"module\", \"fullType\": \"module\"}]\n",
      "Label mapping:  {'com': 0, 'dec': 1, 'dir': 2, 'exp': 3, 'icu': 4, 'rep': 5, 'soc': 6, 'xpa': 7}\n",
      "[{\"name\": \"GroupKFold\", \"type\": \"ABCMeta\", \"fullType\": \"abc.ABCMeta\"}, {\"name\": \"LabelEncoder\", \"type\": \"type\", \"fullType\": \"type\"}, {\"name\": \"RandomOverSampler\", \"type\": \"ABCMeta\", \"fullType\": \"abc.ABCMeta\"}, {\"name\": \"StandardScaler\", \"type\": \"type\", \"fullType\": \"type\"}, {\"name\": \"Tee\", \"type\": \"type\", \"fullType\": \"type\"}, {\"name\": \"X\", \"type\": \"csr_matrix\", \"fullType\": \"scipy.sparse._csr.csr_matrix\"}, {\"name\": \"XGBClassifier\", \"type\": \"type\", \"fullType\": \"type\"}, {\"name\": \"X_scaled\", \"type\": \"csr_matrix\", \"fullType\": \"scipy.sparse._csr.csr_matrix\"}, {\"name\": \"accuracy_score\", \"type\": \"function\", \"fullType\": \"function\"}, {\"name\": \"confusion_matrix\", \"type\": \"function\", \"fullType\": \"function\"}, {\"name\": \"csr_matrix\", \"type\": \"type\", \"fullType\": \"type\"}, {\"name\": \"f1_score\", \"type\": \"function\", \"fullType\": \"function\"}, {\"name\": \"feature_vector\", \"type\": \"csr_matrix\", \"fullType\": \"scipy.sparse._csr.csr_matrix\"}, {\"name\": \"filenames\", \"type\": \"ndarray\", \"fullType\": \"numpy.ndarray\"}, {\"name\": \"labelencoder\", \"type\": \"LabelEncoder\", \"fullType\": \"sklearn.preprocessing._label.LabelEncoder\"}, {\"name\": \"le_name_mapping\", \"type\": \"dict\", \"fullType\": \"dict\"}, {\"name\": \"log_file\", \"type\": \"TextIOWrapper\", \"fullType\": \"_io.TextIOWrapper\"}, {\"name\": \"nltk\", \"type\": \"module\", \"fullType\": \"module\"}, {\"name\": \"np\", \"type\": \"module\", \"fullType\": \"module\"}, {\"name\": \"precision_score\", \"type\": \"function\", \"fullType\": \"function\"}, {\"name\": \"recall_score\", \"type\": \"function\", \"fullType\": \"function\"}, {\"name\": \"scaler\", \"type\": \"StandardScaler\", \"fullType\": \"sklearn.preprocessing._data.StandardScaler\"}, {\"name\": \"scipy\", \"type\": \"module\", \"fullType\": \"module\"}, {\"name\": \"sys\", \"type\": \"module\", \"fullType\": \"module\"}, {\"name\": \"xgb_params\", \"type\": \"dict\", \"fullType\": \"dict\"}, {\"name\": \"y\", \"type\": \"ndarray\", \"fullType\": \"numpy.ndarray\"}]\n",
      "[{\"name\": \"GroupKFold\", \"type\": \"ABCMeta\", \"fullType\": \"abc.ABCMeta\"}, {\"name\": \"LabelEncoder\", \"type\": \"type\", \"fullType\": \"type\"}, {\"name\": \"RandomOverSampler\", \"type\": \"ABCMeta\", \"fullType\": \"abc.ABCMeta\"}, {\"name\": \"StandardScaler\", \"type\": \"type\", \"fullType\": \"type\"}, {\"name\": \"Tee\", \"type\": \"type\", \"fullType\": \"type\"}, {\"name\": \"X\", \"type\": \"csr_matrix\", \"fullType\": \"scipy.sparse._csr.csr_matrix\"}, {\"name\": \"XGBClassifier\", \"type\": \"type\", \"fullType\": \"type\"}, {\"name\": \"X_scaled\", \"type\": \"csr_matrix\", \"fullType\": \"scipy.sparse._csr.csr_matrix\"}, {\"name\": \"accuracy_score\", \"type\": \"function\", \"fullType\": \"function\"}, {\"name\": \"confusion_matrix\", \"type\": \"function\", \"fullType\": \"function\"}, {\"name\": \"csr_matrix\", \"type\": \"type\", \"fullType\": \"type\"}, {\"name\": \"f1_score\", \"type\": \"function\", \"fullType\": \"function\"}, {\"name\": \"feature_vector\", \"type\": \"csr_matrix\", \"fullType\": \"scipy.sparse._csr.csr_matrix\"}, {\"name\": \"filenames\", \"type\": \"ndarray\", \"fullType\": \"numpy.ndarray\"}, {\"name\": \"labelencoder\", \"type\": \"LabelEncoder\", \"fullType\": \"sklearn.preprocessing._label.LabelEncoder\"}, {\"name\": \"le_name_mapping\", \"type\": \"dict\", \"fullType\": \"dict\"}, {\"name\": \"log_file\", \"type\": \"TextIOWrapper\", \"fullType\": \"_io.TextIOWrapper\"}, {\"name\": \"nltk\", \"type\": \"module\", \"fullType\": \"module\"}, {\"name\": \"np\", \"type\": \"module\", \"fullType\": \"module\"}, {\"name\": \"precision_score\", \"type\": \"function\", \"fullType\": \"function\"}, {\"name\": \"recall_score\", \"type\": \"function\", \"fullType\": \"function\"}, {\"name\": \"scaler\", \"type\": \"StandardScaler\", \"fullType\": \"sklearn.preprocessing._data.StandardScaler\"}, {\"name\": \"scipy\", \"type\": \"module\", \"fullType\": \"module\"}, {\"name\": \"sys\", \"type\": \"module\", \"fullType\": \"module\"}, {\"name\": \"xgb_params\", \"type\": \"dict\", \"fullType\": \"dict\"}, {\"name\": \"y\", \"type\": \"ndarray\", \"fullType\": \"numpy.ndarray\"}]\n",
      "[{\"name\": \"GroupKFold\", \"type\": \"ABCMeta\", \"fullType\": \"abc.ABCMeta\"}, {\"name\": \"LabelEncoder\", \"type\": \"type\", \"fullType\": \"type\"}, {\"name\": \"RandomOverSampler\", \"type\": \"ABCMeta\", \"fullType\": \"abc.ABCMeta\"}, {\"name\": \"StandardScaler\", \"type\": \"type\", \"fullType\": \"type\"}, {\"name\": \"Tee\", \"type\": \"type\", \"fullType\": \"type\"}, {\"name\": \"X\", \"type\": \"csr_matrix\", \"fullType\": \"scipy.sparse._csr.csr_matrix\"}, {\"name\": \"XGBClassifier\", \"type\": \"type\", \"fullType\": \"type\"}, {\"name\": \"X_scaled\", \"type\": \"csr_matrix\", \"fullType\": \"scipy.sparse._csr.csr_matrix\"}, {\"name\": \"accuracy_score\", \"type\": \"function\", \"fullType\": \"function\"}, {\"name\": \"confusion_matrix\", \"type\": \"function\", \"fullType\": \"function\"}, {\"name\": \"csr_matrix\", \"type\": \"type\", \"fullType\": \"type\"}, {\"name\": \"f1_score\", \"type\": \"function\", \"fullType\": \"function\"}, {\"name\": \"feature_vector\", \"type\": \"csr_matrix\", \"fullType\": \"scipy.sparse._csr.csr_matrix\"}, {\"name\": \"filenames\", \"type\": \"ndarray\", \"fullType\": \"numpy.ndarray\"}, {\"name\": \"labelencoder\", \"type\": \"LabelEncoder\", \"fullType\": \"sklearn.preprocessing._label.LabelEncoder\"}, {\"name\": \"le_name_mapping\", \"type\": \"dict\", \"fullType\": \"dict\"}, {\"name\": \"log_file\", \"type\": \"TextIOWrapper\", \"fullType\": \"_io.TextIOWrapper\"}, {\"name\": \"nltk\", \"type\": \"module\", \"fullType\": \"module\"}, {\"name\": \"np\", \"type\": \"module\", \"fullType\": \"module\"}, {\"name\": \"precision_score\", \"type\": \"function\", \"fullType\": \"function\"}, {\"name\": \"recall_score\", \"type\": \"function\", \"fullType\": \"function\"}, {\"name\": \"scaler\", \"type\": \"StandardScaler\", \"fullType\": \"sklearn.preprocessing._data.StandardScaler\"}, {\"name\": \"scipy\", \"type\": \"module\", \"fullType\": \"module\"}, {\"name\": \"sys\", \"type\": \"module\", \"fullType\": \"module\"}, {\"name\": \"xgb_params\", \"type\": \"dict\", \"fullType\": \"dict\"}, {\"name\": \"y\", \"type\": \"ndarray\", \"fullType\": \"numpy.ndarray\"}]\n",
      "[{\"name\": \"GroupKFold\", \"type\": \"ABCMeta\", \"fullType\": \"abc.ABCMeta\"}, {\"name\": \"LabelEncoder\", \"type\": \"type\", \"fullType\": \"type\"}, {\"name\": \"RandomOverSampler\", \"type\": \"ABCMeta\", \"fullType\": \"abc.ABCMeta\"}, {\"name\": \"StandardScaler\", \"type\": \"type\", \"fullType\": \"type\"}, {\"name\": \"Tee\", \"type\": \"type\", \"fullType\": \"type\"}, {\"name\": \"X\", \"type\": \"csr_matrix\", \"fullType\": \"scipy.sparse._csr.csr_matrix\"}, {\"name\": \"XGBClassifier\", \"type\": \"type\", \"fullType\": \"type\"}, {\"name\": \"X_scaled\", \"type\": \"csr_matrix\", \"fullType\": \"scipy.sparse._csr.csr_matrix\"}, {\"name\": \"accuracy_score\", \"type\": \"function\", \"fullType\": \"function\"}, {\"name\": \"confusion_matrix\", \"type\": \"function\", \"fullType\": \"function\"}, {\"name\": \"csr_matrix\", \"type\": \"type\", \"fullType\": \"type\"}, {\"name\": \"f1_score\", \"type\": \"function\", \"fullType\": \"function\"}, {\"name\": \"feature_vector\", \"type\": \"csr_matrix\", \"fullType\": \"scipy.sparse._csr.csr_matrix\"}, {\"name\": \"filenames\", \"type\": \"ndarray\", \"fullType\": \"numpy.ndarray\"}, {\"name\": \"labelencoder\", \"type\": \"LabelEncoder\", \"fullType\": \"sklearn.preprocessing._label.LabelEncoder\"}, {\"name\": \"le_name_mapping\", \"type\": \"dict\", \"fullType\": \"dict\"}, {\"name\": \"log_file\", \"type\": \"TextIOWrapper\", \"fullType\": \"_io.TextIOWrapper\"}, {\"name\": \"nltk\", \"type\": \"module\", \"fullType\": \"module\"}, {\"name\": \"np\", \"type\": \"module\", \"fullType\": \"module\"}, {\"name\": \"precision_score\", \"type\": \"function\", \"fullType\": \"function\"}, {\"name\": \"recall_score\", \"type\": \"function\", \"fullType\": \"function\"}, {\"name\": \"scaler\", \"type\": \"StandardScaler\", \"fullType\": \"sklearn.preprocessing._data.StandardScaler\"}, {\"name\": \"scipy\", \"type\": \"module\", \"fullType\": \"module\"}, {\"name\": \"sys\", \"type\": \"module\", \"fullType\": \"module\"}, {\"name\": \"xgb_params\", \"type\": \"dict\", \"fullType\": \"dict\"}, {\"name\": \"y\", \"type\": \"ndarray\", \"fullType\": \"numpy.ndarray\"}]\n",
      "[{\"name\": \"GroupKFold\", \"type\": \"ABCMeta\", \"fullType\": \"abc.ABCMeta\"}, {\"name\": \"LabelEncoder\", \"type\": \"type\", \"fullType\": \"type\"}, {\"name\": \"RandomOverSampler\", \"type\": \"ABCMeta\", \"fullType\": \"abc.ABCMeta\"}, {\"name\": \"StandardScaler\", \"type\": \"type\", \"fullType\": \"type\"}, {\"name\": \"Tee\", \"type\": \"type\", \"fullType\": \"type\"}, {\"name\": \"X\", \"type\": \"csr_matrix\", \"fullType\": \"scipy.sparse._csr.csr_matrix\"}, {\"name\": \"XGBClassifier\", \"type\": \"type\", \"fullType\": \"type\"}, {\"name\": \"X_scaled\", \"type\": \"csr_matrix\", \"fullType\": \"scipy.sparse._csr.csr_matrix\"}, {\"name\": \"accuracy_score\", \"type\": \"function\", \"fullType\": \"function\"}, {\"name\": \"confusion_matrix\", \"type\": \"function\", \"fullType\": \"function\"}, {\"name\": \"csr_matrix\", \"type\": \"type\", \"fullType\": \"type\"}, {\"name\": \"f1_score\", \"type\": \"function\", \"fullType\": \"function\"}, {\"name\": \"feature_vector\", \"type\": \"csr_matrix\", \"fullType\": \"scipy.sparse._csr.csr_matrix\"}, {\"name\": \"filenames\", \"type\": \"ndarray\", \"fullType\": \"numpy.ndarray\"}, {\"name\": \"labelencoder\", \"type\": \"LabelEncoder\", \"fullType\": \"sklearn.preprocessing._label.LabelEncoder\"}, {\"name\": \"le_name_mapping\", \"type\": \"dict\", \"fullType\": \"dict\"}, {\"name\": \"log_file\", \"type\": \"TextIOWrapper\", \"fullType\": \"_io.TextIOWrapper\"}, {\"name\": \"nltk\", \"type\": \"module\", \"fullType\": \"module\"}, {\"name\": \"np\", \"type\": \"module\", \"fullType\": \"module\"}, {\"name\": \"precision_score\", \"type\": \"function\", \"fullType\": \"function\"}, {\"name\": \"recall_score\", \"type\": \"function\", \"fullType\": \"function\"}, {\"name\": \"scaler\", \"type\": \"StandardScaler\", \"fullType\": \"sklearn.preprocessing._data.StandardScaler\"}, {\"name\": \"scipy\", \"type\": \"module\", \"fullType\": \"module\"}, {\"name\": \"sys\", \"type\": \"module\", \"fullType\": \"module\"}, {\"name\": \"xgb_params\", \"type\": \"dict\", \"fullType\": \"dict\"}, {\"name\": \"y\", \"type\": \"ndarray\", \"fullType\": \"numpy.ndarray\"}]\n"
     ]
    }
   ],
   "source": [
    "class Tee:\n",
    "    def __init__(self, *streams):\n",
    "        self.streams = streams\n",
    "\n",
    "    def write(self, data):\n",
    "        for stream in self.streams:\n",
    "            stream.write(data)\n",
    "\n",
    "    def flush(self):\n",
    "        for stream in self.streams:\n",
    "            stream.flush()\n",
    "\n",
    "log_file = open(\"xgboost_full_oversampling_results.txt\", \"w\") #rename as needed\n",
    "sys.stdout = Tee(sys.__stdout__, log_file)"
   ]
  },
  {
   "cell_type": "code",
   "execution_count": 8,
   "metadata": {},
   "outputs": [],
   "source": [
    "def classify(classifier, params, X, y, groups):\n",
    "    class_labels = np.unique(y)\n",
    "    gkf = GroupKFold(n_splits=10)\n",
    "\n",
    "    precisions = []\n",
    "    recalls = []\n",
    "    f1_scores = []\n",
    "    accuracies = []\n",
    "\n",
    "\n",
    "    for fold, (train_index, test_index) in enumerate(gkf.split(X, y, groups=groups)):\n",
    "        X_train_fold, X_test_fold = X[train_index], X[test_index]\n",
    "        y_train_fold, y_test_fold = y[train_index], y[test_index]\n",
    "\n",
    "        # Oversample training data\n",
    "        ros = RandomOverSampler(random_state=42) #set sampling_strategy parameter here for other distributions than full balance oversampling\n",
    "        X_train_resampled, y_train_resampled = ros.fit_resample(X_train_fold, y_train_fold)\n",
    "        \n",
    "        model = classifier(**params)\n",
    "        model.fit(X_train_resampled, y_train_resampled)\n",
    "\n",
    "        y_pred_fold = model.predict(X_test_fold)\n",
    "\n",
    "        # Get metrics per class for this fold\n",
    "        precision = precision_score(y_test_fold, y_pred_fold, labels=class_labels, average=None, zero_division=0)\n",
    "        recall = recall_score(y_test_fold, y_pred_fold, labels=class_labels, average=None, zero_division=0)\n",
    "        f1 = f1_score(y_test_fold, y_pred_fold, labels=class_labels, average=None, zero_division=0)\n",
    "        accuracy = accuracy_score(y_test_fold, y_pred_fold)\n",
    "\n",
    "        precisions.append(precision)\n",
    "        recalls.append(recall)\n",
    "        f1_scores.append(f1)\n",
    "        accuracies.append(accuracy)\n",
    "\n",
    "        cm = confusion_matrix(y_test_fold, y_pred_fold, labels=class_labels)\n",
    "        print(f\"Confusion matrix fold {fold}\\n\", cm)\n",
    "\n",
    "    avg_class_precision = np.mean(precisions, axis=0)\n",
    "    avg_class_recall = np.mean(recalls, axis=0)\n",
    "    avg_class_f1_score = np.mean(f1_scores, axis=0)\n",
    "\n",
    "    avg_accuracy = np.mean(accuracies)\n",
    "    avg_recall = np.mean(recalls)\n",
    "    avg_f1_score = np.mean(f1_scores)\n",
    "    avg_precision = np.mean(precisions)\n",
    "\n",
    "    print(\"--------------------------------------------------------\\n\")\n",
    "    print(\"Average Accuracy: \", avg_accuracy, \"\\n\")\n",
    "    print(\"Average Precision: \", avg_precision)\n",
    "    print(\"Averaged Precision per Class:\")\n",
    "    for i, label in enumerate(class_labels):\n",
    "        print(f\"Class {label}: {avg_class_precision[i]:.4f}\")\n",
    "    \n",
    "    print(\"\\nAverage Recall: \", avg_recall)\n",
    "    print(\"Averaged Recall per Class:\")\n",
    "    for i, label in enumerate(class_labels):\n",
    "        print(f\"Class {label}: {avg_class_recall[i]:.4f}\")\n",
    "    \n",
    "    print(\"\\nAverage F1-Score: \", avg_f1_score)\n",
    "    print(\"Averaged F1-Score per Class:\")\n",
    "    for i, label in enumerate(class_labels):\n",
    "        print(f\"Class {label}: {avg_class_f1_score[i]:.4f}\")"
   ]
  },
  {
   "cell_type": "code",
   "execution_count": 3,
   "metadata": {},
   "outputs": [],
   "source": [
    "feature_vector = scipy.sparse.load_npz(\"vectorized_data.npz\")\n",
    "y = np.load(\"labels.npy\", allow_pickle=True)\n",
    "# transform labels into numerical values\n",
    "labelencoder = LabelEncoder()\n",
    "labelencoder.fit(y)\n",
    "y = labelencoder.transform(y)\n",
    "le_name_mapping = dict(zip(labelencoder.classes_, labelencoder.transform(labelencoder.classes_)))\n",
    "print(\"Label mapping: \", le_name_mapping)\n",
    "\n",
    "filenames = np.load(\"filenames.npy\", allow_pickle=True)\n",
    "X = csr_matrix(feature_vector)\n",
    "scaler = StandardScaler(with_mean=False)\n",
    "X_scaled = scaler.fit_transform(X)\n",
    "\n",
    "xgb_params = {\n",
    "    \"n_estimators\": 200,\n",
    "    \"learning_rate\": 0.1,\n",
    "    \"max_depth\": 5,\n",
    "    \"subsample\": 0.8,\n",
    "    \"colsample_bytree\": 0.8,\n",
    "    \"eval_metric\": \"mlogloss\"\n",
    "}\n"
   ]
  },
  {
   "cell_type": "code",
   "execution_count": 10,
   "metadata": {},
   "outputs": [
    {
     "name": "stderr",
     "output_type": "stream",
     "text": [
      "/opt/anaconda3/envs/vectorize_and_classify/lib/python3.10/site-packages/xgboost/training.py:183: UserWarning: [15:23:27] WARNING: /Users/runner/work/xgboost/xgboost/src/learner.cc:738: \n",
      "Parameters: { \"use_label_encoder\" } are not used.\n",
      "\n",
      "  bst.update(dtrain, iteration=i, fobj=obj)\n",
      "/opt/anaconda3/envs/vectorize_and_classify/lib/python3.10/site-packages/xgboost/training.py:183: UserWarning: [15:24:14] WARNING: /Users/runner/work/xgboost/xgboost/src/learner.cc:738: \n",
      "Parameters: { \"use_label_encoder\" } are not used.\n",
      "\n",
      "  bst.update(dtrain, iteration=i, fobj=obj)\n",
      "/opt/anaconda3/envs/vectorize_and_classify/lib/python3.10/site-packages/xgboost/training.py:183: UserWarning: [15:25:01] WARNING: /Users/runner/work/xgboost/xgboost/src/learner.cc:738: \n",
      "Parameters: { \"use_label_encoder\" } are not used.\n",
      "\n",
      "  bst.update(dtrain, iteration=i, fobj=obj)\n",
      "/opt/anaconda3/envs/vectorize_and_classify/lib/python3.10/site-packages/xgboost/training.py:183: UserWarning: [15:25:45] WARNING: /Users/runner/work/xgboost/xgboost/src/learner.cc:738: \n",
      "Parameters: { \"use_label_encoder\" } are not used.\n",
      "\n",
      "  bst.update(dtrain, iteration=i, fobj=obj)\n",
      "/opt/anaconda3/envs/vectorize_and_classify/lib/python3.10/site-packages/xgboost/training.py:183: UserWarning: [15:26:31] WARNING: /Users/runner/work/xgboost/xgboost/src/learner.cc:738: \n",
      "Parameters: { \"use_label_encoder\" } are not used.\n",
      "\n",
      "  bst.update(dtrain, iteration=i, fobj=obj)\n",
      "/opt/anaconda3/envs/vectorize_and_classify/lib/python3.10/site-packages/xgboost/training.py:183: UserWarning: [15:27:16] WARNING: /Users/runner/work/xgboost/xgboost/src/learner.cc:738: \n",
      "Parameters: { \"use_label_encoder\" } are not used.\n",
      "\n",
      "  bst.update(dtrain, iteration=i, fobj=obj)\n",
      "/opt/anaconda3/envs/vectorize_and_classify/lib/python3.10/site-packages/xgboost/training.py:183: UserWarning: [15:28:01] WARNING: /Users/runner/work/xgboost/xgboost/src/learner.cc:738: \n",
      "Parameters: { \"use_label_encoder\" } are not used.\n",
      "\n",
      "  bst.update(dtrain, iteration=i, fobj=obj)\n",
      "/opt/anaconda3/envs/vectorize_and_classify/lib/python3.10/site-packages/xgboost/training.py:183: UserWarning: [15:28:49] WARNING: /Users/runner/work/xgboost/xgboost/src/learner.cc:738: \n",
      "Parameters: { \"use_label_encoder\" } are not used.\n",
      "\n",
      "  bst.update(dtrain, iteration=i, fobj=obj)\n",
      "/opt/anaconda3/envs/vectorize_and_classify/lib/python3.10/site-packages/xgboost/training.py:183: UserWarning: [15:29:36] WARNING: /Users/runner/work/xgboost/xgboost/src/learner.cc:738: \n",
      "Parameters: { \"use_label_encoder\" } are not used.\n",
      "\n",
      "  bst.update(dtrain, iteration=i, fobj=obj)\n",
      "/opt/anaconda3/envs/vectorize_and_classify/lib/python3.10/site-packages/xgboost/training.py:183: UserWarning: [15:30:20] WARNING: /Users/runner/work/xgboost/xgboost/src/learner.cc:738: \n",
      "Parameters: { \"use_label_encoder\" } are not used.\n",
      "\n",
      "  bst.update(dtrain, iteration=i, fobj=obj)\n"
     ]
    }
   ],
   "source": [
    "classify(XGBClassifier, xgb_params, X_scaled, y, filenames)"
   ]
  }
 ],
 "metadata": {
  "kernelspec": {
   "display_name": "vectorize_and_classify",
   "language": "python",
   "name": "python3"
  },
  "language_info": {
   "codemirror_mode": {
    "name": "ipython",
    "version": 3
   },
   "file_extension": ".py",
   "mimetype": "text/x-python",
   "name": "python",
   "nbconvert_exporter": "python",
   "pygments_lexer": "ipython3",
   "version": "3.10.18"
  }
 },
 "nbformat": 4,
 "nbformat_minor": 2
}
